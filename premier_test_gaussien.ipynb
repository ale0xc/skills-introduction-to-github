{
 "cells": [
  {
   "cell_type": "code",
   "execution_count": 1,
   "metadata": {},
   "outputs": [],
   "source": [
    "import os\n",
    "import random\n",
    "random.seed(42) \n",
    "\n",
    "import matplotlib.pyplot as plt\n",
    "import pandas as pd\n",
    "import seaborn as sns\n",
    "\n",
    "# Inline plots in Jupyter notebooks\n",
    "%matplotlib inline\n",
    "\n",
    "# better display of review text in dataframes\n",
    "pd.set_option('display.max_colwidth', None) \n",
    "\n",
    "# Seaborn style\n",
    "sns.set(style=\"whitegrid\")"
   ]
  },
  {
   "cell_type": "code",
   "execution_count": 2,
   "metadata": {},
   "outputs": [
    {
     "name": "stdout",
     "output_type": "stream",
     "text": [
      "Reading file: reviews.pickle\n",
      "Loaded 90 reviews !\n"
     ]
    }
   ],
   "source": [
    "PICKLE_DIR = 'reviews.pickle'\n",
    "\n",
    "\n",
    "print(\"Reading file: \" + PICKLE_DIR)\n",
    "allocine_df = pd.read_pickle(PICKLE_DIR)\n",
    "   \n",
    "print(\"Loaded {} reviews !\".format(len(allocine_df)))"
   ]
  },
  {
   "cell_type": "code",
   "execution_count": 3,
   "metadata": {},
   "outputs": [
    {
     "data": {
      "text/html": [
       "<div>\n",
       "<style scoped>\n",
       "    .dataframe tbody tr th:only-of-type {\n",
       "        vertical-align: middle;\n",
       "    }\n",
       "\n",
       "    .dataframe tbody tr th {\n",
       "        vertical-align: top;\n",
       "    }\n",
       "\n",
       "    .dataframe thead th {\n",
       "        text-align: right;\n",
       "    }\n",
       "</style>\n",
       "<table border=\"1\" class=\"dataframe\">\n",
       "  <thead>\n",
       "    <tr style=\"text-align: right;\">\n",
       "      <th></th>\n",
       "      <th>film-url</th>\n",
       "      <th>rating</th>\n",
       "      <th>review</th>\n",
       "      <th>date</th>\n",
       "      <th>helpful</th>\n",
       "      <th>unhelpful</th>\n",
       "    </tr>\n",
       "  </thead>\n",
       "  <tbody>\n",
       "    <tr>\n",
       "      <th>40</th>\n",
       "      <td>http://www.allocine.fr/film/fichefilm-224808/critiques/spectateurs</td>\n",
       "      <td>4.5</td>\n",
       "      <td>Œuvre considérée comme ringarde par les plus jeunes d’entre nous (moi compris), Greta Gerwig fait de cette nouvelle adaptation des \"Filles du Docteur March\" une œuvre profondément contemporaine. Une vraie réussite.&lt;br/&gt;&lt;br/&gt;Bien qu’il soit une adaptation, le film possède un solide scénario, très bien écrit. La narration est de plus renforcée par un bon montage et notamment la superbe photographie de Yorick Le Saux qui tous deux, permettent de distinguer facilement les deux périodes auxquelles se déroule le film.&lt;br/&gt;&lt;br/&gt;Tantôt grisâtre pour décrire la période racontée présentement, tantôt lumineux et coloré pour raconter une histoire passée, le film jongle parfaitement bien entre deux époques et deux humeurs. Cette impression est donc renforcée par le montage, souvent réalisé en symétrie ou miroir, rappelant chacune des époques racontées. Le procédé est très bien maîtrisé et permet de jolis plans et transitions fluides.&lt;br/&gt;&lt;br/&gt;Tout le film rappelle cet aller-retour entre passé et présent, entre souvenirs et désillusions. Là est la vraie force du scénario, qui parvient à conter une histoire authentique et sincère autour de très bons personnages (féminins), superbement présentés.&lt;br/&gt;&lt;br/&gt;Une histoire sincère et progressiste, toujours de bons sentiments, comme l’importance de la famille, l’émancipation des femmes ou encore trouver sa voie dans la vie. Des thèmes intemporels racontés avec brio et sans simagrée.&lt;br/&gt;&lt;br/&gt;On sent un fort dévouement et un profond respect de Gerwig pour ses personnages et leurs péripéties. La réalisatrice s’entoure d’ailleurs d’un superbe casting, Saoirse Ronan en tête et meneuse de troupe. Toujours aussi investie et géniale, cette dernière porte le film sur ses épaules et livre une interprétation soignée et énergique de Jo March, qui refuse les conventions établies par la société. On retiendra aussi la performance remarquée de Meryl Streep en tante rabat-joie. Mais aussi, les performances justes de Florence Pugh et la jeune Eliza Scanlen.&lt;br/&gt;&lt;br/&gt;Le film s’avère touchant et émouvant tout du long (les scènes entre Jo et sa sœur Beth sont très bouleversantes) durant lequel Gerwig propose une mise en scène maligne et efficace (superbe plan d’ouverture). La musique d’Alexandre Desplat, en toute discrétion et légèreté, vient ajouter encore plus de cachet à une adaptation parfaitement réussie de l’œuvre de Louisa May Alcott.</td>\n",
       "      <td>2019-12-31</td>\n",
       "      <td>18</td>\n",
       "      <td>3</td>\n",
       "    </tr>\n",
       "    <tr>\n",
       "      <th>22</th>\n",
       "      <td>http://www.allocine.fr/film/fichefilm-260841/critiques/spectateurs</td>\n",
       "      <td>2.0</td>\n",
       "      <td>Dans l'asile psychiatrique dans lequel travaille sa mère, un adolescent gentil, introverti et un peu rêveur va faire la rencontre d'une jeune fille atteinte de troubles se rapprochant d'une forme de schizophrénie.&lt;br/&gt;Tombé amoureux d'elle au premier regard, il décide de l'aider à s'enfuir : un voyage un peu fou à travers le pays débute alors pour ce duo juvénile.&lt;br/&gt;Certaines qualités artistiques sont bien présentes dans cette cavalcade amoureuse hors du temps et des réalités.&lt;br/&gt;Les deux jeunes comédiens sont également assez convaincants dans l'ensemble, le rôle de Benoît PoelVoorde en fin de film ne restera malheureusement qu'anecdotique.&lt;br/&gt;Seulement voilà : je n'ai pas accroché du tout !&lt;br/&gt;J'ai alterné les moments malaisants liés à la folie de cette fillette et les passages ennuyeux dus à un scénario finalement assez plat à la limite du crédible.&lt;br/&gt;J'ai même ressenti de la peine pour ce garçonnet embarqué bien malgré lui dans un véritable tourbillon dramatique.&lt;br/&gt;Décevant et un brin crispant.&lt;br/&gt;Site www.cinemadourg.free.fr</td>\n",
       "      <td>2020-01-25</td>\n",
       "      <td>4</td>\n",
       "      <td>2</td>\n",
       "    </tr>\n",
       "    <tr>\n",
       "      <th>55</th>\n",
       "      <td>http://www.allocine.fr/film/fichefilm-268490/critiques/spectateurs</td>\n",
       "      <td>4.0</td>\n",
       "      <td>Surfant sur la vague MeToo, bien que cette affaire soit sortie avant celle de Harvey Weinstein, Scandale est un film fort sympathique qui retrace l'affaire Roger Ailes, président de la chaîne américaine Fox News, qui, en 2016, fut accusé de harcèlement sexuel à l'encontre de plusieurs journalistes. Le film est porté par son très bon trio d'actrice (Charlize Theron, Nicole Kidman et Margot Robbie), la mise en scène est académique mais maîtrisée, l'histoire est sympathique à suivre et le film est assez dynamique. Un film intéressant donc qui a le mérite de mettre en lumière cette affaire moins connue du grand public.</td>\n",
       "      <td>2020-01-25</td>\n",
       "      <td>7</td>\n",
       "      <td>2</td>\n",
       "    </tr>\n",
       "  </tbody>\n",
       "</table>\n",
       "</div>"
      ],
      "text/plain": [
       "                                                              film-url  \\\n",
       "40  http://www.allocine.fr/film/fichefilm-224808/critiques/spectateurs   \n",
       "22  http://www.allocine.fr/film/fichefilm-260841/critiques/spectateurs   \n",
       "55  http://www.allocine.fr/film/fichefilm-268490/critiques/spectateurs   \n",
       "\n",
       "    rating  \\\n",
       "40     4.5   \n",
       "22     2.0   \n",
       "55     4.0   \n",
       "\n",
       "                                                                                                                                                                                                                                                                                                                                                                                                                                                                                                                                                                                                                                                                                                                                                                                                                                                                                                                                                                                                                                                                                                                                                                                                                                                                                                                                                                                                                                                                                                                                                                                                                                                                                                                                                                                                                                                                                                                                                                                                                                                                                                                                                                                                                                                                                                                                                                                                                                                                                      review  \\\n",
       "40  Œuvre considérée comme ringarde par les plus jeunes d’entre nous (moi compris), Greta Gerwig fait de cette nouvelle adaptation des \"Filles du Docteur March\" une œuvre profondément contemporaine. Une vraie réussite.<br/><br/>Bien qu’il soit une adaptation, le film possède un solide scénario, très bien écrit. La narration est de plus renforcée par un bon montage et notamment la superbe photographie de Yorick Le Saux qui tous deux, permettent de distinguer facilement les deux périodes auxquelles se déroule le film.<br/><br/>Tantôt grisâtre pour décrire la période racontée présentement, tantôt lumineux et coloré pour raconter une histoire passée, le film jongle parfaitement bien entre deux époques et deux humeurs. Cette impression est donc renforcée par le montage, souvent réalisé en symétrie ou miroir, rappelant chacune des époques racontées. Le procédé est très bien maîtrisé et permet de jolis plans et transitions fluides.<br/><br/>Tout le film rappelle cet aller-retour entre passé et présent, entre souvenirs et désillusions. Là est la vraie force du scénario, qui parvient à conter une histoire authentique et sincère autour de très bons personnages (féminins), superbement présentés.<br/><br/>Une histoire sincère et progressiste, toujours de bons sentiments, comme l’importance de la famille, l’émancipation des femmes ou encore trouver sa voie dans la vie. Des thèmes intemporels racontés avec brio et sans simagrée.<br/><br/>On sent un fort dévouement et un profond respect de Gerwig pour ses personnages et leurs péripéties. La réalisatrice s’entoure d’ailleurs d’un superbe casting, Saoirse Ronan en tête et meneuse de troupe. Toujours aussi investie et géniale, cette dernière porte le film sur ses épaules et livre une interprétation soignée et énergique de Jo March, qui refuse les conventions établies par la société. On retiendra aussi la performance remarquée de Meryl Streep en tante rabat-joie. Mais aussi, les performances justes de Florence Pugh et la jeune Eliza Scanlen.<br/><br/>Le film s’avère touchant et émouvant tout du long (les scènes entre Jo et sa sœur Beth sont très bouleversantes) durant lequel Gerwig propose une mise en scène maligne et efficace (superbe plan d’ouverture). La musique d’Alexandre Desplat, en toute discrétion et légèreté, vient ajouter encore plus de cachet à une adaptation parfaitement réussie de l’œuvre de Louisa May Alcott.   \n",
       "22                                                                                                                                                                                                                                                                                                                                                                                                                                                                                                                                                                                                                                                                                                                                                                                                                                                                                                                                                                                                                                                                                                                                                                                                                                                                                                                                                                                            Dans l'asile psychiatrique dans lequel travaille sa mère, un adolescent gentil, introverti et un peu rêveur va faire la rencontre d'une jeune fille atteinte de troubles se rapprochant d'une forme de schizophrénie.<br/>Tombé amoureux d'elle au premier regard, il décide de l'aider à s'enfuir : un voyage un peu fou à travers le pays débute alors pour ce duo juvénile.<br/>Certaines qualités artistiques sont bien présentes dans cette cavalcade amoureuse hors du temps et des réalités.<br/>Les deux jeunes comédiens sont également assez convaincants dans l'ensemble, le rôle de Benoît PoelVoorde en fin de film ne restera malheureusement qu'anecdotique.<br/>Seulement voilà : je n'ai pas accroché du tout !<br/>J'ai alterné les moments malaisants liés à la folie de cette fillette et les passages ennuyeux dus à un scénario finalement assez plat à la limite du crédible.<br/>J'ai même ressenti de la peine pour ce garçonnet embarqué bien malgré lui dans un véritable tourbillon dramatique.<br/>Décevant et un brin crispant.<br/>Site www.cinemadourg.free.fr   \n",
       "55                                                                                                                                                                                                                                                                                                                                                                                                                                                                                                                                                                                                                                                                                                                                                                                                                                                                                                                                                                                                                                                                                                                                                                                                                                                                                                                                                                                                                                                                                                                                                                                                                                                                                                                                                                                                                                            Surfant sur la vague MeToo, bien que cette affaire soit sortie avant celle de Harvey Weinstein, Scandale est un film fort sympathique qui retrace l'affaire Roger Ailes, président de la chaîne américaine Fox News, qui, en 2016, fut accusé de harcèlement sexuel à l'encontre de plusieurs journalistes. Le film est porté par son très bon trio d'actrice (Charlize Theron, Nicole Kidman et Margot Robbie), la mise en scène est académique mais maîtrisée, l'histoire est sympathique à suivre et le film est assez dynamique. Un film intéressant donc qui a le mérite de mettre en lumière cette affaire moins connue du grand public.   \n",
       "\n",
       "          date  helpful  unhelpful  \n",
       "40  2019-12-31       18          3  \n",
       "22  2020-01-25        4          2  \n",
       "55  2020-01-25        7          2  "
      ]
     },
     "execution_count": 3,
     "metadata": {},
     "output_type": "execute_result"
    }
   ],
   "source": [
    "allocine_df.sample(3, random_state=42)"
   ]
  },
  {
   "cell_type": "code",
   "execution_count": 4,
   "metadata": {},
   "outputs": [
    {
     "data": {
      "text/html": [
       "<div>\n",
       "<style scoped>\n",
       "    .dataframe tbody tr th:only-of-type {\n",
       "        vertical-align: middle;\n",
       "    }\n",
       "\n",
       "    .dataframe tbody tr th {\n",
       "        vertical-align: top;\n",
       "    }\n",
       "\n",
       "    .dataframe thead th {\n",
       "        text-align: right;\n",
       "    }\n",
       "</style>\n",
       "<table border=\"1\" class=\"dataframe\">\n",
       "  <thead>\n",
       "    <tr style=\"text-align: right;\">\n",
       "      <th></th>\n",
       "      <th>film-url</th>\n",
       "      <th>rating</th>\n",
       "      <th>review</th>\n",
       "      <th>date</th>\n",
       "      <th>helpful</th>\n",
       "      <th>unhelpful</th>\n",
       "    </tr>\n",
       "  </thead>\n",
       "  <tbody>\n",
       "    <tr>\n",
       "      <th>17</th>\n",
       "      <td>http://www.allocine.fr/film/fichefilm-265262/critiques/spectateurs</td>\n",
       "      <td>1.5</td>\n",
       "      <td>Pas inintéressant, mais beaucoup trop inégal et franchement pas drôle. L’un des problèmes majeurs des films à sketches, les trente premières minutes ont véritablement de l’intérêt. Elsa Zylberstein, Blanche Gardin et Finnegan Oldfield sont vraiment bons. Le reste du film est sans surprise ni prise de risque. Un petit côté Black Mirror du pauvre, des scènes qui ne vont jamais très loin dans l’absurde. Humour à la ligne sans jamais une transgression, voilà une comédie beaucoup trop sérieuse. Boulevardducinema.com</td>\n",
       "      <td>2020-01-25</td>\n",
       "      <td>4</td>\n",
       "      <td>1</td>\n",
       "    </tr>\n",
       "    <tr>\n",
       "      <th>19</th>\n",
       "      <td>http://www.allocine.fr/film/fichefilm-265262/critiques/spectateurs</td>\n",
       "      <td>0.5</td>\n",
       "      <td>Où l'on ne peut que constater que chaque époque a le(s) moraliste(s) qu'elle mérite ! Au Grand Siècle, Jean de La Bruyère ; pour notre siècle pitoyable, les sieurs (et dame) Julien Sibony ou Hélène Lombard, à l'écriture, et le sieur Thomas Bidegain  (&amp; co) à la mise en images. 10 pauvres faiseurs en 2019 (année de sortie de \"Selfie\"), contre un maître, à partir de 1687 (1ère édition des \"Caractères\")... Si l'idée était bonne (voire séduisante) de ce \"de l'influence du numérique sur les honnêtes gens\" (sous-titre du film), aussitôt daté, aucun écho, même lointain, au \"les moeurs de ce siècle\" du magistral (et intemporel) livre du \"fort honnête homme\" (selon Boileau) que fut La Bruyère ! Ces (5) sketchs pour temps 2.0 sont en effet dénués de tout style, de toute fraîcheur d'inspiration... de tout esprit, surtout. Il est vrai que le siècle de l'IA, des réseaux sociaux et autres vulgarités... manque singulièrement de fond, intellectuel et culturel - mais là, à ce point, dans cette pesante Illustration !... Distribution à l'unisson : brouillonne et fade...</td>\n",
       "      <td>2024-10-20</td>\n",
       "      <td>5</td>\n",
       "      <td>0</td>\n",
       "    </tr>\n",
       "    <tr>\n",
       "      <th>36</th>\n",
       "      <td>http://www.allocine.fr/film/fichefilm-261592/critiques/spectateurs</td>\n",
       "      <td>2.0</td>\n",
       "      <td>une bonne idée à la base mais mal exploité.&lt;br/&gt;des changements de comportement un peu incompréhensible chez les hommes et une fin que j attend toujours....</td>\n",
       "      <td>2020-01-19</td>\n",
       "      <td>4</td>\n",
       "      <td>3</td>\n",
       "    </tr>\n",
       "  </tbody>\n",
       "</table>\n",
       "</div>"
      ],
      "text/plain": [
       "                                                              film-url  \\\n",
       "17  http://www.allocine.fr/film/fichefilm-265262/critiques/spectateurs   \n",
       "19  http://www.allocine.fr/film/fichefilm-265262/critiques/spectateurs   \n",
       "36  http://www.allocine.fr/film/fichefilm-261592/critiques/spectateurs   \n",
       "\n",
       "    rating  \\\n",
       "17     1.5   \n",
       "19     0.5   \n",
       "36     2.0   \n",
       "\n",
       "                                                                                                                                                                                                                                                                                                                                                                                                                                                                                                                                                                                                                                                                                                                                                                                                                                                                                                                                                                                                                                                                                                         review  \\\n",
       "17                                                                                                                                                                                                                                                                                                                                                                                                                                                                                                                                                                         Pas inintéressant, mais beaucoup trop inégal et franchement pas drôle. L’un des problèmes majeurs des films à sketches, les trente premières minutes ont véritablement de l’intérêt. Elsa Zylberstein, Blanche Gardin et Finnegan Oldfield sont vraiment bons. Le reste du film est sans surprise ni prise de risque. Un petit côté Black Mirror du pauvre, des scènes qui ne vont jamais très loin dans l’absurde. Humour à la ligne sans jamais une transgression, voilà une comédie beaucoup trop sérieuse. Boulevardducinema.com   \n",
       "19  Où l'on ne peut que constater que chaque époque a le(s) moraliste(s) qu'elle mérite ! Au Grand Siècle, Jean de La Bruyère ; pour notre siècle pitoyable, les sieurs (et dame) Julien Sibony ou Hélène Lombard, à l'écriture, et le sieur Thomas Bidegain  (& co) à la mise en images. 10 pauvres faiseurs en 2019 (année de sortie de \"Selfie\"), contre un maître, à partir de 1687 (1ère édition des \"Caractères\")... Si l'idée était bonne (voire séduisante) de ce \"de l'influence du numérique sur les honnêtes gens\" (sous-titre du film), aussitôt daté, aucun écho, même lointain, au \"les moeurs de ce siècle\" du magistral (et intemporel) livre du \"fort honnête homme\" (selon Boileau) que fut La Bruyère ! Ces (5) sketchs pour temps 2.0 sont en effet dénués de tout style, de toute fraîcheur d'inspiration... de tout esprit, surtout. Il est vrai que le siècle de l'IA, des réseaux sociaux et autres vulgarités... manque singulièrement de fond, intellectuel et culturel - mais là, à ce point, dans cette pesante Illustration !... Distribution à l'unisson : brouillonne et fade...   \n",
       "36                                                                                                                                                                                                                                                                                                                                                                                                                                                                                                                                                                                                                                                                                                                                                                                                                                                                                                                                                 une bonne idée à la base mais mal exploité.<br/>des changements de comportement un peu incompréhensible chez les hommes et une fin que j attend toujours....   \n",
       "\n",
       "          date  helpful  unhelpful  \n",
       "17  2020-01-25        4          1  \n",
       "19  2024-10-20        5          0  \n",
       "36  2020-01-19        4          3  "
      ]
     },
     "execution_count": 4,
     "metadata": {},
     "output_type": "execute_result"
    }
   ],
   "source": [
    "negative_reviews = allocine_df[allocine_df['rating'] <= 2.0]\n",
    "negative_reviews.sample(3, random_state=42)"
   ]
  },
  {
   "cell_type": "code",
   "execution_count": 5,
   "metadata": {},
   "outputs": [
    {
     "data": {
      "text/html": [
       "<div>\n",
       "<style scoped>\n",
       "    .dataframe tbody tr th:only-of-type {\n",
       "        vertical-align: middle;\n",
       "    }\n",
       "\n",
       "    .dataframe tbody tr th {\n",
       "        vertical-align: top;\n",
       "    }\n",
       "\n",
       "    .dataframe thead th {\n",
       "        text-align: right;\n",
       "    }\n",
       "</style>\n",
       "<table border=\"1\" class=\"dataframe\">\n",
       "  <thead>\n",
       "    <tr style=\"text-align: right;\">\n",
       "      <th></th>\n",
       "      <th>film-url</th>\n",
       "      <th>rating</th>\n",
       "      <th>review</th>\n",
       "      <th>date</th>\n",
       "      <th>helpful</th>\n",
       "      <th>unhelpful</th>\n",
       "    </tr>\n",
       "  </thead>\n",
       "  <tbody>\n",
       "    <tr>\n",
       "      <th>85</th>\n",
       "      <td>http://www.allocine.fr/film/fichefilm-267951/critiques/spectateurs</td>\n",
       "      <td>5.0</td>\n",
       "      <td>Un film comme j'en aimerais beaucoup plus souvent. Par certains cotés, comme Thalasso, pour lequel j'ai doné la meme note. Je vais très rarement au cinéma depuis qu'on nous impose une diversité débilisante par dogme, et pareil pour la télé. Mais la, comme pour Thalasso, ça fait du bien de voir :&lt;br/&gt;- une France réelle (que des Français de souche, on y croyait plus, on pensait que ça disparaissait..)&lt;br/&gt;- un vrai scénario, de vrais acteurs&lt;br/&gt;- des sujets percutants&lt;br/&gt;- des émotions non surjouées, proches du réel&lt;br/&gt;- des lieux agréables</td>\n",
       "      <td>2020-01-07</td>\n",
       "      <td>13</td>\n",
       "      <td>2</td>\n",
       "    </tr>\n",
       "    <tr>\n",
       "      <th>88</th>\n",
       "      <td>http://www.allocine.fr/film/fichefilm-267951/critiques/spectateurs</td>\n",
       "      <td>4.5</td>\n",
       "      <td>Très bon scénario.&lt;br/&gt;des histoires humaines , des animaux , des beaux paysages du Morvan , les vétérinaires à l'honneur.&lt;br/&gt;Bravo à Noémie Schimtt et Clovis Cornillac.</td>\n",
       "      <td>2020-01-05</td>\n",
       "      <td>4</td>\n",
       "      <td>1</td>\n",
       "    </tr>\n",
       "    <tr>\n",
       "      <th>7</th>\n",
       "      <td>http://www.allocine.fr/film/fichefilm-265567/critiques/spectateurs</td>\n",
       "      <td>4.0</td>\n",
       "      <td>La première singularité du film est d'être tourné comme un unique plan séquence de près de 2h. En vérité ce système est loin d'être innovant, on peut ainsi citer des films comme \"La Corde\" (1948) de Hitchcock ou \"Snake Eyes\" (1998) de De Palma, ce qui ne gâche en rien la gageure d'un tel parti pris ! En effet, on reste bluffé par le concept où on suit les deux soldats à travers les tranchées, le no man's land, le front de par et d'autre sans discontinuer. On peut en effet tiquer sur la première partie où on reste perplexe par les Tommies  qui sont tous bien rasés, qui sont en uniformes bien propres et dans des conditions un peu trop aseptisés. Mais ensuite on reste happé par le récit, tendu et prenant à chaque instant tant on est proche de ces deux soldats. En prime il y a également quelques passages dantesques comme la poursuite dans les ombres d'une ruine ou la course au milieu d'une charge de fantassins. Un bel hommage aux héros de 14-18.&lt;br/&gt;Site : Selenie</td>\n",
       "      <td>2020-01-19</td>\n",
       "      <td>13</td>\n",
       "      <td>9</td>\n",
       "    </tr>\n",
       "  </tbody>\n",
       "</table>\n",
       "</div>"
      ],
      "text/plain": [
       "                                                              film-url  \\\n",
       "85  http://www.allocine.fr/film/fichefilm-267951/critiques/spectateurs   \n",
       "88  http://www.allocine.fr/film/fichefilm-267951/critiques/spectateurs   \n",
       "7   http://www.allocine.fr/film/fichefilm-265567/critiques/spectateurs   \n",
       "\n",
       "    rating  \\\n",
       "85     5.0   \n",
       "88     4.5   \n",
       "7      4.0   \n",
       "\n",
       "                                                                                                                                                                                                                                                                                                                                                                                                                                                                                                                                                                                                                                                                                                                                                                                                                                                                                                                                                                                                            review  \\\n",
       "85                                                                                                                                                                                                                                                                                                                                                                                                                                            Un film comme j'en aimerais beaucoup plus souvent. Par certains cotés, comme Thalasso, pour lequel j'ai doné la meme note. Je vais très rarement au cinéma depuis qu'on nous impose une diversité débilisante par dogme, et pareil pour la télé. Mais la, comme pour Thalasso, ça fait du bien de voir :<br/>- une France réelle (que des Français de souche, on y croyait plus, on pensait que ça disparaissait..)<br/>- un vrai scénario, de vrais acteurs<br/>- des sujets percutants<br/>- des émotions non surjouées, proches du réel<br/>- des lieux agréables   \n",
       "88                                                                                                                                                                                                                                                                                                                                                                                                                                                                                                                                                                                                                                                                                                                                                                                                                                      Très bon scénario.<br/>des histoires humaines , des animaux , des beaux paysages du Morvan , les vétérinaires à l'honneur.<br/>Bravo à Noémie Schimtt et Clovis Cornillac.   \n",
       "7   La première singularité du film est d'être tourné comme un unique plan séquence de près de 2h. En vérité ce système est loin d'être innovant, on peut ainsi citer des films comme \"La Corde\" (1948) de Hitchcock ou \"Snake Eyes\" (1998) de De Palma, ce qui ne gâche en rien la gageure d'un tel parti pris ! En effet, on reste bluffé par le concept où on suit les deux soldats à travers les tranchées, le no man's land, le front de par et d'autre sans discontinuer. On peut en effet tiquer sur la première partie où on reste perplexe par les Tommies  qui sont tous bien rasés, qui sont en uniformes bien propres et dans des conditions un peu trop aseptisés. Mais ensuite on reste happé par le récit, tendu et prenant à chaque instant tant on est proche de ces deux soldats. En prime il y a également quelques passages dantesques comme la poursuite dans les ombres d'une ruine ou la course au milieu d'une charge de fantassins. Un bel hommage aux héros de 14-18.<br/>Site : Selenie   \n",
       "\n",
       "          date  helpful  unhelpful  \n",
       "85  2020-01-07       13          2  \n",
       "88  2020-01-05        4          1  \n",
       "7   2020-01-19       13          9  "
      ]
     },
     "execution_count": 5,
     "metadata": {},
     "output_type": "execute_result"
    }
   ],
   "source": [
    "positive_reviews = allocine_df[allocine_df['rating'] >= 4.0]\n",
    "positive_reviews.sample(3, random_state=42)"
   ]
  },
  {
   "cell_type": "code",
   "execution_count": 6,
   "metadata": {},
   "outputs": [
    {
     "name": "stderr",
     "output_type": "stream",
     "text": [
      "C:\\Users\\acach\\AppData\\Local\\Temp\\ipykernel_43524\\660597020.py:7: FutureWarning: \n",
      "\n",
      "Passing `palette` without assigning `hue` is deprecated and will be removed in v0.14.0. Assign the `x` variable to `hue` and set `legend=False` for the same effect.\n",
      "\n",
      "  ax = sns.countplot(data=allocine_df, x='rating', palette=goodbad_palette)\n"
     ]
    }
   ],
   "source": [
    "# Ratings\n",
    "plt.figure(figsize=(8,5))\n",
    "\n",
    "goodbad_palette = sns.color_palette(\"RdYlGn_r\", n_colors=10)\n",
    "goodbad_palette.reverse()\n",
    "\n",
    "ax = sns.countplot(data=allocine_df, x='rating', palette=goodbad_palette)\n",
    "ax.set(xlabel='Rating', ylabel='')\n",
    "\n",
    "# Finalize the plot\n",
    "sns.despine(bottom=True)\n",
    "plt.tight_layout(h_pad=2)\n",
    "\n",
    "# Saving plot\n",
    "fig = ax.get_figure()\n",
    "#fig.savefig('img/rating_counts.png', dpi=200)"
   ]
  },
  {
   "cell_type": "code",
   "execution_count": 7,
   "metadata": {},
   "outputs": [],
   "source": [
    "def find_polarity(row):\n",
    "    if row['rating'] <= 2.0:\n",
    "        return -1\n",
    "    elif row['rating'] >= 4.0:\n",
    "        return 1\n",
    "    else:\n",
    "        return 0\n",
    "\n",
    "allocine_df['polarity'] = allocine_df.apply(lambda row : find_polarity(row), axis=1) "
   ]
  },
  {
   "cell_type": "code",
   "execution_count": 8,
   "metadata": {},
   "outputs": [
    {
     "name": "stderr",
     "output_type": "stream",
     "text": [
      "C:\\Users\\acach\\AppData\\Local\\Temp\\ipykernel_43524\\1007430402.py:6: FutureWarning: \n",
      "\n",
      "Passing `palette` without assigning `hue` is deprecated and will be removed in v0.14.0. Assign the `x` variable to `hue` and set `legend=False` for the same effect.\n",
      "\n",
      "  ax = sns.countplot(data=allocine_df, x='polarity', palette=goodbad_palette)\n",
      "C:\\Users\\acach\\AppData\\Local\\Temp\\ipykernel_43524\\1007430402.py:8: UserWarning: set_ticklabels() should only be used with a fixed number of ticks, i.e. after set_ticks() or using a FixedLocator.\n",
      "  ax.set_xticklabels(['Negative', 'Neutral', 'Positive'])\n"
     ]
    }
   ],
   "source": [
    "plt.figure(figsize=(8,5))\n",
    "\n",
    "goodbad_palette = sns.color_palette(\"RdYlGn_r\", n_colors=3)\n",
    "goodbad_palette.reverse()\n",
    "\n",
    "ax = sns.countplot(data=allocine_df, x='polarity', palette=goodbad_palette)\n",
    "ax.set(xlabel='', ylabel='')\n",
    "ax.set_xticklabels(['Negative', 'Neutral', 'Positive'])\n",
    "\n",
    "# Frenquencies\n",
    "ncount = len(allocine_df)\n",
    "for p in ax.patches:\n",
    "    x=p.get_bbox().get_points()[:,0]\n",
    "    y=p.get_bbox().get_points()[1,1]\n",
    "    ax.annotate('{:.1f}%'.format(100.*y/ncount), (x.mean(), y), \n",
    "            ha='center', va='bottom') # set the alignment of the text\n",
    "\n",
    "# Finalize the plot\n",
    "sns.despine(bottom=True)\n",
    "plt.tight_layout(h_pad=2)\n",
    "\n",
    "# Saving plot\n",
    "fig = ax.get_figure()\n",
    "#fig.savefig('img/polarity_frequency.png', dpi=200)"
   ]
  },
  {
   "cell_type": "code",
   "execution_count": 9,
   "metadata": {},
   "outputs": [
    {
     "name": "stderr",
     "output_type": "stream",
     "text": [
      "C:\\Users\\acach\\AppData\\Local\\Temp\\ipykernel_43524\\3155840454.py:4: UserWarning: \n",
      "\n",
      "`distplot` is a deprecated function and will be removed in seaborn v0.14.0.\n",
      "\n",
      "Please adapt your code to use either `displot` (a figure-level function with\n",
      "similar flexibility) or `histplot` (an axes-level function for histograms).\n",
      "\n",
      "For a guide to updating your code to use the new functions, please see\n",
      "https://gist.github.com/mwaskom/de44147ed2974457ad6372750bbe5751\n",
      "\n",
      "  ax = sns.distplot(reviews_length, bins=150, kde=False, hist_kws=dict(alpha=0.8))\n"
     ]
    }
   ],
   "source": [
    "reviews_length = allocine_df['review'].str.len()\n",
    "\n",
    "plt.figure(figsize=(10,5))\n",
    "ax = sns.distplot(reviews_length, bins=150, kde=False, hist_kws=dict(alpha=0.8))\n",
    "ax.set(xlabel='Review Length')\n",
    "\n",
    "# Finalize the plot\n",
    "sns.despine(bottom=True)\n",
    "plt.tight_layout(h_pad=2)\n",
    "\n",
    "# Saving plot\n",
    "fig = ax.get_figure()\n",
    "#fig.savefig('img/reviews_length.png', dpi=200)"
   ]
  },
  {
   "cell_type": "code",
   "execution_count": 10,
   "metadata": {},
   "outputs": [
    {
     "name": "stdout",
     "output_type": "stream",
     "text": [
      "15 reviews with LEN > 2000 (16.67 % of total data)\n"
     ]
    }
   ],
   "source": [
    "THRESHOLD = 2000\n",
    "short_reviews = allocine_df[allocine_df['review'].str.len() <= THRESHOLD]\n",
    "long_reviews =  allocine_df[allocine_df['review'].str.len() > THRESHOLD]\n",
    "\n",
    "print(\"{} reviews with LEN > {} ({:.2f} % of total data)\".format(\n",
    "    len(long_reviews),\n",
    "    THRESHOLD,\n",
    "    100 * len(long_reviews) / len(allocine_df)\n",
    "))"
   ]
  },
  {
   "cell_type": "code",
   "execution_count": 11,
   "metadata": {},
   "outputs": [
    {
     "data": {
      "text/html": [
       "<div>\n",
       "<style scoped>\n",
       "    .dataframe tbody tr th:only-of-type {\n",
       "        vertical-align: middle;\n",
       "    }\n",
       "\n",
       "    .dataframe tbody tr th {\n",
       "        vertical-align: top;\n",
       "    }\n",
       "\n",
       "    .dataframe thead th {\n",
       "        text-align: right;\n",
       "    }\n",
       "</style>\n",
       "<table border=\"1\" class=\"dataframe\">\n",
       "  <thead>\n",
       "    <tr style=\"text-align: right;\">\n",
       "      <th></th>\n",
       "      <th>film-url</th>\n",
       "      <th>rating</th>\n",
       "      <th>review</th>\n",
       "      <th>date</th>\n",
       "      <th>helpful</th>\n",
       "      <th>unhelpful</th>\n",
       "      <th>polarity</th>\n",
       "    </tr>\n",
       "  </thead>\n",
       "  <tbody>\n",
       "    <tr>\n",
       "      <th>2</th>\n",
       "      <td>http://www.allocine.fr/film/fichefilm-265567/critiques/spectateurs</td>\n",
       "      <td>3.5</td>\n",
       "      <td>Allez soyons franc, « 1917 » est un film de guerre maîtrisé de bout en bout qui vaut son pesant de popcorn. Certains diront blockbuster, d’autres film froid qui retrace sans empathie l’expérience de nos ancêtres… personnellement j’opterais pour film à budget moyen qui se démarque en utilisant une technique certes déjà connue et utilisée, mais une technique quand même : le plan séquence. Sam Mendes avait sans doute l’envie de nous faire vivre en temps réel une mission clé de la survie des troupes alliés lors de la Grande Guerre. C’est réussi. La reconstitution des décors et des costumes est tout simplement splendide. Nous sommes immergés dans un no-man’s land des plus terrifiants et authentiques et nous suivons une course contre la montre qui s’apparente à du suicide.&lt;br/&gt;&lt;br/&gt;« 1917 » est donc une bonne retranscription composée de maîtrise historique et technique. Sam Mendes l’a d’ailleurs souligné dans une de ses interviews : « Très peu de films évoquent la Première Guerre Mondiale car c’est une guerre immobile qui consistait à attendre des jours et des jours dans les tranchées pour finalement mourir 200 ou 300 mètres plus loin ». L’originalité de ce film, c’est la singularité d’une petite mission intégrée dans la guerre. Rajouter une petite histoire dans l’histoire.&lt;br/&gt;&lt;br/&gt;Contrairement à un film comme « Dunkerque » de Christopher Nolan, « 1917 » ne fait pas un documentaire de la guerre et n’hésite pas à nous donner une dimension héroïque (et ce sans en faire des tonnes non plus). Un homme pour en sauver 1 600 autres, 1 600 autres comme lui. La mission aurait pu être assignée à lui ou à un autre, la finalité aurait été la même. D’où l’importance d’un personnage que l’on suit et qui a un impact tout au long de l’histoire sans pour autant être mis sur un piédestal.&lt;br/&gt;&lt;br/&gt;En résumé, « 1917 » est un film prenant et abouti où très peu de défauts peuvent être décelés en termes de technique ou de procédés utilisés. On se croit vraiment sur place avec les poilus. Reste à savoir si c’est un film qui pousse à la réflexion ? Pas nécessairement. Bien entendu on peut repenser aux horreurs de la guerre (villages rasés, faune et flore dévastés) et la souffrance vécue dans les tranchées. Malheureusement ce n’est pas l’objet du film et l’empathie reste assez « légère » dans la narration. Belle claque visuelle toutefois.</td>\n",
       "      <td>2020-01-20</td>\n",
       "      <td>46</td>\n",
       "      <td>32</td>\n",
       "      <td>0</td>\n",
       "    </tr>\n",
       "  </tbody>\n",
       "</table>\n",
       "</div>"
      ],
      "text/plain": [
       "                                                             film-url  rating  \\\n",
       "2  http://www.allocine.fr/film/fichefilm-265567/critiques/spectateurs     3.5   \n",
       "\n",
       "                                                                                                                                                                                                                                                                                                                                                                                                                                                                                                                                                                                                                                                                                                                                                                                                                                                                                                                                                                                                                                                                                                                                                                                                                                                                                                                                                                                                                                                                                                                                                                                                                                                                                                                                                                                                                                                                                                                                                                                                                                                                                                                                                                                                                                                                                                                                                                                                                                            review  \\\n",
       "2  Allez soyons franc, « 1917 » est un film de guerre maîtrisé de bout en bout qui vaut son pesant de popcorn. Certains diront blockbuster, d’autres film froid qui retrace sans empathie l’expérience de nos ancêtres… personnellement j’opterais pour film à budget moyen qui se démarque en utilisant une technique certes déjà connue et utilisée, mais une technique quand même : le plan séquence. Sam Mendes avait sans doute l’envie de nous faire vivre en temps réel une mission clé de la survie des troupes alliés lors de la Grande Guerre. C’est réussi. La reconstitution des décors et des costumes est tout simplement splendide. Nous sommes immergés dans un no-man’s land des plus terrifiants et authentiques et nous suivons une course contre la montre qui s’apparente à du suicide.<br/><br/>« 1917 » est donc une bonne retranscription composée de maîtrise historique et technique. Sam Mendes l’a d’ailleurs souligné dans une de ses interviews : « Très peu de films évoquent la Première Guerre Mondiale car c’est une guerre immobile qui consistait à attendre des jours et des jours dans les tranchées pour finalement mourir 200 ou 300 mètres plus loin ». L’originalité de ce film, c’est la singularité d’une petite mission intégrée dans la guerre. Rajouter une petite histoire dans l’histoire.<br/><br/>Contrairement à un film comme « Dunkerque » de Christopher Nolan, « 1917 » ne fait pas un documentaire de la guerre et n’hésite pas à nous donner une dimension héroïque (et ce sans en faire des tonnes non plus). Un homme pour en sauver 1 600 autres, 1 600 autres comme lui. La mission aurait pu être assignée à lui ou à un autre, la finalité aurait été la même. D’où l’importance d’un personnage que l’on suit et qui a un impact tout au long de l’histoire sans pour autant être mis sur un piédestal.<br/><br/>En résumé, « 1917 » est un film prenant et abouti où très peu de défauts peuvent être décelés en termes de technique ou de procédés utilisés. On se croit vraiment sur place avec les poilus. Reste à savoir si c’est un film qui pousse à la réflexion ? Pas nécessairement. Bien entendu on peut repenser aux horreurs de la guerre (villages rasés, faune et flore dévastés) et la souffrance vécue dans les tranchées. Malheureusement ce n’est pas l’objet du film et l’empathie reste assez « légère » dans la narration. Belle claque visuelle toutefois.   \n",
       "\n",
       "         date  helpful  unhelpful  polarity  \n",
       "2  2020-01-20       46         32         0  "
      ]
     },
     "execution_count": 11,
     "metadata": {},
     "output_type": "execute_result"
    }
   ],
   "source": [
    "long_reviews.head(1)"
   ]
  },
  {
   "cell_type": "code",
   "execution_count": 12,
   "metadata": {},
   "outputs": [
    {
     "name": "stderr",
     "output_type": "stream",
     "text": [
      "C:\\Users\\acach\\AppData\\Local\\Temp\\ipykernel_43524\\3655083358.py:4: UserWarning: \n",
      "\n",
      "`distplot` is a deprecated function and will be removed in seaborn v0.14.0.\n",
      "\n",
      "Please adapt your code to use either `displot` (a figure-level function with\n",
      "similar flexibility) or `histplot` (an axes-level function for histograms).\n",
      "\n",
      "For a guide to updating your code to use the new functions, please see\n",
      "https://gist.github.com/mwaskom/de44147ed2974457ad6372750bbe5751\n",
      "\n",
      "  ax = sns.distplot(short_reviews_length, bins=100, kde=False, hist_kws=dict(alpha=0.8))\n"
     ]
    }
   ],
   "source": [
    "short_reviews_length = short_reviews['review'].str.len()\n",
    "\n",
    "plt.figure(figsize=(8,5))\n",
    "ax = sns.distplot(short_reviews_length, bins=100, kde=False, hist_kws=dict(alpha=0.8))\n",
    "ax.set(xlabel='Review Length')\n",
    "\n",
    "# Finalize the plot\n",
    "sns.despine(bottom=True)\n",
    "plt.tight_layout(h_pad=2)\n",
    "\n",
    "# Saving plot\n",
    "fig = ax.get_figure()\n",
    "#fig.savefig('img/short_reviews_length.png', dpi=200)"
   ]
  },
  {
   "cell_type": "code",
   "execution_count": 13,
   "metadata": {},
   "outputs": [
    {
     "name": "stdout",
     "output_type": "stream",
     "text": [
      "Length: 90\n"
     ]
    }
   ],
   "source": [
    "dataset_df = allocine_df.copy()\n",
    "initial_len = len(dataset_df)\n",
    "print(\"Length: {}\".format(initial_len))"
   ]
  },
  {
   "cell_type": "code",
   "execution_count": 14,
   "metadata": {},
   "outputs": [],
   "source": [
    "def loss_percentage(df, previous_length):\n",
    "    new_length = len(df)\n",
    "    percentage = 100*(1-(new_length/previous_length))    \n",
    "    return new_length, percentage  "
   ]
  },
  {
   "cell_type": "code",
   "execution_count": 15,
   "metadata": {},
   "outputs": [
    {
     "name": "stdout",
     "output_type": "stream",
     "text": [
      "Length: 56 (-37.8 %)\n",
      "Length: 48 (-14.3 %)\n",
      "Total loss: (-46.7 %)\n"
     ]
    }
   ],
   "source": [
    "# 1. Drop columns we don't need\n",
    "dataset_df = dataset_df.drop(columns=['rating', 'date', 'helpful', 'unhelpful'])\n",
    "\n",
    "# 2. Drop rows we don't need (neutral polarity)\n",
    "dataset_df = dataset_df[dataset_df['polarity'] != 0]\n",
    "length, percentage = loss_percentage(dataset_df, initial_len)\n",
    "print(\"Length: {} (-{:.1f} %)\".format(length, percentage))\n",
    "\n",
    "# 3. Remove long reviews\n",
    "LENGTH_THRESH = 2000\n",
    "dataset_df = dataset_df[dataset_df['review'].str.len() <= LENGTH_THRESH]\n",
    "length, percentage = loss_percentage(dataset_df, length)\n",
    "print(\"Length: {} (-{:.1f} %)\".format(length, percentage))\n",
    "\n",
    "# 4. Limit number of reviews per film\n",
    "\"\"\"\n",
    "MAX_REVIEWS_PER_FILM = 30\n",
    "grouped = dataset_df.groupby('film-url')\n",
    "for ids in grouped.groups.values():\n",
    "    num_reviews = len(ids)    \n",
    "    if num_reviews > MAX_REVIEWS_PER_FILM:\n",
    "        sampling_size = num_reviews - MAX_REVIEWS_PER_FILM\n",
    "        ids_to_drop = random.sample(list(ids), sampling_size)\n",
    "        dataset_df = dataset_df.drop(ids_to_drop)\n",
    "        \n",
    "length, percentage = loss_percentage(dataset_df, length)\n",
    "print(\"Length: {} (-{:.1f} %)\".format(length, percentage))\n",
    "\"\"\"\n",
    "# Total loss\n",
    "length, percentage = loss_percentage(dataset_df, initial_len)\n",
    "print(\"Total loss: (-{:.1f} %)\".format(percentage))"
   ]
  },
  {
   "cell_type": "code",
   "execution_count": 16,
   "metadata": {},
   "outputs": [],
   "source": [
    "# Change -1 to 0 for negative polarity\n",
    "dataset_df.loc[dataset_df['polarity'] == -1, 'polarity'] = 0"
   ]
  },
  {
   "cell_type": "code",
   "execution_count": 17,
   "metadata": {},
   "outputs": [
    {
     "data": {
      "text/plain": [
       "polarity\n",
       "0    13\n",
       "1    35\n",
       "dtype: int64"
      ]
     },
     "execution_count": 17,
     "metadata": {},
     "output_type": "execute_result"
    }
   ],
   "source": [
    "dataset_df.groupby('polarity').size()"
   ]
  },
  {
   "cell_type": "code",
   "execution_count": 18,
   "metadata": {},
   "outputs": [],
   "source": [
    "import re\n",
    "\n",
    "def clean_text(text):\n",
    "    text = text.replace('\\xa0', ' ')\n",
    "    text = text.replace('\\x92', \"'\")\n",
    "    \n",
    "    # Substituting multiple spaces with single space\n",
    "    # Also remove '\\n' and '\\r' occurences\n",
    "    text= re.sub(r'\\s+', ' ', text, flags=re.I)\n",
    "    \n",
    "    return text\n",
    " \n",
    "dataset_df['review'] = dataset_df['review'].apply(clean_text)"
   ]
  },
  {
   "cell_type": "code",
   "execution_count": 19,
   "metadata": {},
   "outputs": [],
   "source": [
    "# Remove reviews with less than 3 characters\n",
    "# Done after text processing on purpose\n",
    "dataset_df = dataset_df[dataset_df['review'].str.len() > 2]"
   ]
  },
  {
   "cell_type": "code",
   "execution_count": 20,
   "metadata": {},
   "outputs": [
    {
     "data": {
      "text/html": [
       "<div>\n",
       "<style scoped>\n",
       "    .dataframe tbody tr th:only-of-type {\n",
       "        vertical-align: middle;\n",
       "    }\n",
       "\n",
       "    .dataframe tbody tr th {\n",
       "        vertical-align: top;\n",
       "    }\n",
       "\n",
       "    .dataframe thead th {\n",
       "        text-align: right;\n",
       "    }\n",
       "</style>\n",
       "<table border=\"1\" class=\"dataframe\">\n",
       "  <thead>\n",
       "    <tr style=\"text-align: right;\">\n",
       "      <th></th>\n",
       "      <th>film-url</th>\n",
       "      <th>review</th>\n",
       "      <th>polarity</th>\n",
       "    </tr>\n",
       "  </thead>\n",
       "  <tbody>\n",
       "    <tr>\n",
       "      <th>51</th>\n",
       "      <td>http://www.allocine.fr/film/fichefilm-268490/critiques/spectateurs</td>\n",
       "      <td>Un très bon film sur le scandale de la chaîne Fox News avec Nicole Kidman, Charlize Theron, Margot Robbie.</td>\n",
       "      <td>1</td>\n",
       "    </tr>\n",
       "    <tr>\n",
       "      <th>77</th>\n",
       "      <td>http://www.allocine.fr/film/fichefilm-273579/critiques/spectateurs</td>\n",
       "      <td>Après Joker voici les Misérables qui est un chef d œuvre et qui prend aux tripes, super scénario on s'y croit vraiment et on est angoisse les acteurs sont magistraux à voir absolument</td>\n",
       "      <td>1</td>\n",
       "    </tr>\n",
       "    <tr>\n",
       "      <th>49</th>\n",
       "      <td>http://www.allocine.fr/film/fichefilm-224808/critiques/spectateurs</td>\n",
       "      <td>« Les filles du Docteur March » est une adaptation de l’œuvre littéraire de Louisa May Alcott parue en 1868. L’histoire nous raconte la vie d’une famille américaine durant la guerre de Sécession. Le récit est centré sur quatre sœurs issues de la classe moyenne et dont les parents sont médecin et aumônier. Je ne connaissais pas du tout l’histoire avant de voir ce film. J’étais donc très heureux de découvrir cette adaptation cinéma qui m’a attiré par la qualité de son casting (Saoirse Ronan, Timothée Chalamet, Emma Watson, Florence Pugh, Laura Dern et j’en passe). Malgré l’époque, cette œuvre reste intemporelle. Le féminisme est incarné en la personne de Jo March qui rêve de devenir une romancière indépendante sans avoir à se marier. L’histoire est, parait-il, une autobiographie romancée de la part de Louisa May Alcott dont la vie serait proche de cette du personnage de Jo.&lt;br/&gt;La réalisation est très belle avec une utilisation de la couleur en lien avec les éléments de l’histoire. Les costumes et les décors participent grandement l’immersion.&lt;br/&gt;J’ai passé un très bon moment devant ce film qui a su me captiver du début à la fin. Si vous souhaitez découvrir cette histoire ou simplement vous plonger dans cette belle époque, lancez-vous !</td>\n",
       "      <td>1</td>\n",
       "    </tr>\n",
       "    <tr>\n",
       "      <th>85</th>\n",
       "      <td>http://www.allocine.fr/film/fichefilm-267951/critiques/spectateurs</td>\n",
       "      <td>Un film comme j'en aimerais beaucoup plus souvent. Par certains cotés, comme Thalasso, pour lequel j'ai doné la meme note. Je vais très rarement au cinéma depuis qu'on nous impose une diversité débilisante par dogme, et pareil pour la télé. Mais la, comme pour Thalasso, ça fait du bien de voir :&lt;br/&gt;- une France réelle (que des Français de souche, on y croyait plus, on pensait que ça disparaissait..)&lt;br/&gt;- un vrai scénario, de vrais acteurs&lt;br/&gt;- des sujets percutants&lt;br/&gt;- des émotions non surjouées, proches du réel&lt;br/&gt;- des lieux agréables</td>\n",
       "      <td>1</td>\n",
       "    </tr>\n",
       "    <tr>\n",
       "      <th>47</th>\n",
       "      <td>http://www.allocine.fr/film/fichefilm-224808/critiques/spectateurs</td>\n",
       "      <td>Très jolie version de cette histoire qui a bercé mon enfance. Saoirse Ronan est excellente, et me rappelle sans cesse ma fille. Timothée Chalamet confirme son talent. Très bon moment.</td>\n",
       "      <td>1</td>\n",
       "    </tr>\n",
       "  </tbody>\n",
       "</table>\n",
       "</div>"
      ],
      "text/plain": [
       "                                                              film-url  \\\n",
       "51  http://www.allocine.fr/film/fichefilm-268490/critiques/spectateurs   \n",
       "77  http://www.allocine.fr/film/fichefilm-273579/critiques/spectateurs   \n",
       "49  http://www.allocine.fr/film/fichefilm-224808/critiques/spectateurs   \n",
       "85  http://www.allocine.fr/film/fichefilm-267951/critiques/spectateurs   \n",
       "47  http://www.allocine.fr/film/fichefilm-224808/critiques/spectateurs   \n",
       "\n",
       "                                                                                                                                                                                                                                                                                                                                                                                                                                                                                                                                                                                                                                                                                                                                                                                                                                                                                                                                                                                                                                                                                                                                                                                                                                                                                                     review  \\\n",
       "51                                                                                                                                                                                                                                                                                                                                                                                                                                                                                                                                                                                                                                                                                                                                                                                                                                                                                                                                                                                                                                                                                                                                                                                               Un très bon film sur le scandale de la chaîne Fox News avec Nicole Kidman, Charlize Theron, Margot Robbie.   \n",
       "77                                                                                                                                                                                                                                                                                                                                                                                                                                                                                                                                                                                                                                                                                                                                                                                                                                                                                                                                                                                                                                                                                                                  Après Joker voici les Misérables qui est un chef d œuvre et qui prend aux tripes, super scénario on s'y croit vraiment et on est angoisse les acteurs sont magistraux à voir absolument   \n",
       "49  « Les filles du Docteur March » est une adaptation de l’œuvre littéraire de Louisa May Alcott parue en 1868. L’histoire nous raconte la vie d’une famille américaine durant la guerre de Sécession. Le récit est centré sur quatre sœurs issues de la classe moyenne et dont les parents sont médecin et aumônier. Je ne connaissais pas du tout l’histoire avant de voir ce film. J’étais donc très heureux de découvrir cette adaptation cinéma qui m’a attiré par la qualité de son casting (Saoirse Ronan, Timothée Chalamet, Emma Watson, Florence Pugh, Laura Dern et j’en passe). Malgré l’époque, cette œuvre reste intemporelle. Le féminisme est incarné en la personne de Jo March qui rêve de devenir une romancière indépendante sans avoir à se marier. L’histoire est, parait-il, une autobiographie romancée de la part de Louisa May Alcott dont la vie serait proche de cette du personnage de Jo.<br/>La réalisation est très belle avec une utilisation de la couleur en lien avec les éléments de l’histoire. Les costumes et les décors participent grandement l’immersion.<br/>J’ai passé un très bon moment devant ce film qui a su me captiver du début à la fin. Si vous souhaitez découvrir cette histoire ou simplement vous plonger dans cette belle époque, lancez-vous !   \n",
       "85                                                                                                                                                                                                                                                                                                                                                                                                                                                                                                                                                                                                                                                                                                                                     Un film comme j'en aimerais beaucoup plus souvent. Par certains cotés, comme Thalasso, pour lequel j'ai doné la meme note. Je vais très rarement au cinéma depuis qu'on nous impose une diversité débilisante par dogme, et pareil pour la télé. Mais la, comme pour Thalasso, ça fait du bien de voir :<br/>- une France réelle (que des Français de souche, on y croyait plus, on pensait que ça disparaissait..)<br/>- un vrai scénario, de vrais acteurs<br/>- des sujets percutants<br/>- des émotions non surjouées, proches du réel<br/>- des lieux agréables   \n",
       "47                                                                                                                                                                                                                                                                                                                                                                                                                                                                                                                                                                                                                                                                                                                                                                                                                                                                                                                                                                                                                                                                                                                  Très jolie version de cette histoire qui a bercé mon enfance. Saoirse Ronan est excellente, et me rappelle sans cesse ma fille. Timothée Chalamet confirme son talent. Très bon moment.   \n",
       "\n",
       "    polarity  \n",
       "51         1  \n",
       "77         1  \n",
       "49         1  \n",
       "85         1  \n",
       "47         1  "
      ]
     },
     "execution_count": 20,
     "metadata": {},
     "output_type": "execute_result"
    }
   ],
   "source": [
    "dataset_df.sample(5, random_state=42)"
   ]
  },
  {
   "cell_type": "markdown",
   "metadata": {},
   "source": [
    "## Gaussian"
   ]
  },
  {
   "cell_type": "code",
   "execution_count": 22,
   "metadata": {},
   "outputs": [],
   "source": [
    "reviews = dataset_df[\"review\"]\n",
    "labels = dataset_df[\"polarity\"]"
   ]
  },
  {
   "cell_type": "code",
   "execution_count": 34,
   "metadata": {},
   "outputs": [],
   "source": [
    "import re\n",
    "\n",
    "stop_words_fr = set([\n",
    "    'et', 'le', 'la', 'les', 'de', 'des', 'du', 'un', 'une', 'en', 'dans', 'que',\n",
    "    'qui', 'pour', 'par', 'sur', 'avec', 'pas', 'plus', 'ne', 'ce', 'se', 'au',\n",
    "    'aux', 'à', 'est', 'il', 'elle', 'on', 'nous', 'vous', 'ils', 'elles', 'mais',\n",
    "    'ou', 'donc', 'or', 'ni', 'car', 'comme'\n",
    "])\n",
    "\n",
    "def nettoyer_review(text):\n",
    "    text = text.lower()\n",
    "    text = re.sub(r\"<br\\s*/?>\", \" \", text)  # enlever balises HTML\n",
    "    text = re.sub(r\"[^a-zàâçéèêëîïôûùüÿñæœ\\s]\", \"\", text)  # enlever caractères spéciaux\n",
    "    tokens = text.split()\n",
    "    return [w for w in tokens if w not in stop_words_fr and len(w) > 1]"
   ]
  },
  {
   "cell_type": "code",
   "execution_count": 24,
   "metadata": {},
   "outputs": [],
   "source": [
    "from gensim.models import KeyedVectors\n",
    "\n",
    "fasttext_model = KeyedVectors.load_word2vec_format(\n",
    "    \"cc.fr.300.vec/cc.fr.300.vec\", \n",
    "    encoding='utf8',\n",
    "    binary=False\n",
    ")\n"
   ]
  },
  {
   "cell_type": "code",
   "execution_count": 28,
   "metadata": {},
   "outputs": [],
   "source": [
    "fasttext_model.save(\"fasttext_fr.bin\")"
   ]
  },
  {
   "cell_type": "code",
   "execution_count": null,
   "metadata": {},
   "outputs": [],
   "source": [
    "fasttext_model = KeyedVectors.load(\"fasttext_fr.bin\")"
   ]
  },
  {
   "cell_type": "code",
   "execution_count": 36,
   "metadata": {},
   "outputs": [],
   "source": [
    "import numpy as np\n",
    "\n",
    "def vectoriser_review(tokens, model, dim=300):\n",
    "    vecteurs = [model[word] for word in tokens if word in model]\n",
    "    if not vecteurs:\n",
    "        return np.zeros(dim)\n",
    "    return np.mean(vecteurs, axis=0)\n",
    "\n",
    "# Appliquer à tout le dataset\n",
    "X = np.vstack([vectoriser_review(nettoyer_review(review), fasttext_model) for review in reviews])\n"
   ]
  },
  {
   "cell_type": "code",
   "execution_count": 40,
   "metadata": {},
   "outputs": [
    {
     "name": "stderr",
     "output_type": "stream",
     "text": [
      "C:\\Users\\acach\\anaconda3\\Lib\\site-packages\\sklearn\\cluster\\_kmeans.py:1429: UserWarning: KMeans is known to have a memory leak on Windows with MKL, when there are less chunks than available threads. You can avoid it by setting the environment variable OMP_NUM_THREADS=1.\n",
      "  warnings.warn(\n"
     ]
    }
   ],
   "source": [
    "from sklearn.mixture import GaussianMixture\n",
    "\n",
    "gmm = GaussianMixture(n_components=2, covariance_type='full', random_state=42)\n",
    "gmm.fit(X)\n",
    "labels_pred = gmm.predict(X)\n",
    "dataset_df['cluster'] = labels_pred"
   ]
  },
  {
   "cell_type": "code",
   "execution_count": 44,
   "metadata": {},
   "outputs": [
    {
     "name": "stdout",
     "output_type": "stream",
     "text": [
      "Accuracy : 0.4583333333333333\n",
      "Matrice de confusion :\n",
      " [[10  3]\n",
      " [23 12]]\n"
     ]
    }
   ],
   "source": [
    "from sklearn.metrics import confusion_matrix, accuracy_score\n",
    "\n",
    "# Ajuster les labels si besoin (on peut inverser les clusters si nécessaires)\n",
    "acc = accuracy_score(labels, labels_pred)\n",
    "conf = confusion_matrix(labels, labels_pred)\n",
    "\n",
    "print(\"Accuracy :\", acc)\n",
    "print(\"Matrice de confusion :\\n\", conf)\n"
   ]
  },
  {
   "cell_type": "code",
   "execution_count": 48,
   "metadata": {},
   "outputs": [
    {
     "data": {
      "image/png": "[encoded data removed]",
      "text/plain": [
       "<Figure size 800x500 with 1 Axes>"
      ]
     },
     "metadata": {},
     "output_type": "display_data"
    },
    {
     "data": {
      "image/png": "[encoded data removed]",
      "text/plain": [
       "<Figure size 800x500 with 1 Axes>"
      ]
     },
     "metadata": {},
     "output_type": "display_data"
    },
    {
     "data": {
      "image/png": "[encoded data removed]",
      "text/plain": [
       "<Figure size 1000x500 with 1 Axes>"
      ]
     },
     "metadata": {},
     "output_type": "display_data"
    },
    {
     "data": {
      "image/png": "[encoded data removed]",
      "text/plain": [
       "<Figure size 800x500 with 1 Axes>"
      ]
     },
     "metadata": {},
     "output_type": "display_data"
    },
    {
     "data": {
      "text/plain": [
       "<Figure size 800x600 with 0 Axes>"
      ]
     },
     "metadata": {},
     "output_type": "display_data"
    },
    {
     "data": {
      "image/png": "[encoded data removed]",
      "text/plain": [
       "<Figure size 800x600 with 1 Axes>"
      ]
     },
     "metadata": {},
     "output_type": "display_data"
    }
   ],
   "source": [
    "import matplotlib.pyplot as plt\n",
    "from sklearn.decomposition import PCA\n",
    "\n",
    "X_pca = PCA(n_components=2).fit_transform(X)\n",
    "\n",
    "plt.figure(figsize=(8, 6))\n",
    "plt.scatter(X_pca[:, 0], X_pca[:, 1], c=labels_pred, cmap=\"coolwarm\", alpha=0.6)\n",
    "plt.title(\"Clusters GMM sur les reviews vectorisées avec FastText\")\n",
    "plt.xlabel(\"PCA 1\")\n",
    "plt.ylabel(\"PCA 2\")\n",
    "plt.show()\n",
    "\n"
   ]
  },
  {
   "cell_type": "code",
   "execution_count": null,
   "metadata": {},
   "outputs": [],
   "source": []
  }
 ],
 "metadata": {
  "kernelspec": {
   "display_name": "Python [conda env:base] *",
   "language": "python",
   "name": "conda-base-py"
  },
  "language_info": {
   "codemirror_mode": {
    "name": "ipython",
    "version": 3
   },
   "file_extension": ".py",
   "mimetype": "text/x-python",
   "name": "python",
   "nbconvert_exporter": "python",
   "pygments_lexer": "ipython3",
   "version": "3.12.7"
  }
 },
 "nbformat": 4,
 "nbformat_minor": 4
}
